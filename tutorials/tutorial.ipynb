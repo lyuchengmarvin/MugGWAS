{
 "cells": [
  {
   "cell_type": "markdown",
   "metadata": {},
   "source": [
    "# **Mutated-gene Genome-Wide Association Study (MugGWAS)**"
   ]
  },
  {
   "cell_type": "markdown",
   "metadata": {},
   "source": [
    "MugGWAS identifies potential causal mutations for phenotypic change through testing associations between mutated genes and phenotypic values. The tool aims to "
   ]
  },
  {
   "cell_type": "markdown",
   "metadata": {},
   "source": [
    "### **Prerquisites**\n",
    "\n",
    "This package uses the fixed effect model in  [`pyseer`](https://pyseer.readthedocs.io/en/master/index.html) for association analysis. So, the users have to install and match the [requirements](https://pyseer.readthedocs.io/en/master/installation.html#prerequisites) of `pyseer`."
   ]
  },
  {
   "cell_type": "markdown",
   "metadata": {},
   "source": [
    "### **Installation**\n",
    "Clone this repository from GitHub in the terminal:\n",
    "\n",
    "`git clone https://github.com/lyuchengmarvin/MugGWAS.git`\n"
   ]
  },
  {
   "cell_type": "markdown",
   "metadata": {},
   "source": [
    "### **Build Environment**\n",
    "Build an environment based on an environment.yaml file to satisfy software prerequisites and ensure applicability.\n",
    "\n",
    "`conda env create --name muggwas --file envs/environment.yaml`\n",
    "\n",
    "Activate envrionment before use each time:\n",
    "\n",
    "`conda activate muggwas`\n",
    "\n",
    "You will need to install these dependencies, This step is necessary until I build a docker image for the users:\n",
    "\n",
    "`pip install glmnet_py`\n",
    "\n",
    "`conda install -c bioconda ucsc-gff3togenepred`\n",
    "\n",
    "Deactivate after use:\n",
    "\n",
    "`conda deactivate`"
   ]
  },
  {
   "cell_type": "markdown",
   "metadata": {},
   "source": [
    "### **Tutaorial**\n",
    "Steps:\n",
    "1. Annotate variants\n",
    "2. Build gene mutation table\n",
    "3. Estimate population structure\n",
    "4. GWAS with pyseer\n",
    "5. Plot GWAS result"
   ]
  },
  {
   "cell_type": "markdown",
   "metadata": {},
   "source": [
    "#### **Annotate variants with ANNOVAR**\n",
    "\n",
    "We will use the external tool ANNOVAR and annotate the variants from vcf files. Although one vcf file should contain the variant information for multiple samples, ANNOVAR annotates samples iteratively and create an annotation file per sample.\n",
    "\n",
    "ANNOVAR can be downloaded from this [website](http://annovar.openbioinformatics.org/en/latest/), but registration is required. To ensure accessibility and easy execution for the users, I will build a docker image in the future so that the users can directly annotate their variants through docker.\n",
    "\n",
    "This tool also assumed that users will build their customized database for their none-model organisms, so a genome annotation `<ref_prefix.gff3>` and a genome fasta file `<ref_prefix>.fna` are required and placed in the directory `<ref_prefix>/`. The database will utilize the tool `gff3ToGenePred` to build the database, which was also built when users created their conda environments.\n",
    "\n",
    "\n",
    "**Annotation workflow**\n",
    "\n",
    "1. **Make input files**:\n",
    "    - Input: a VCF file `vcf_prefix.vcf` (with multiple samples)\n",
    "    - Convert VCF to ANNOVAR input format `vcf_prefix.<sample_name>.avinput`\n",
    "    - Store in `/path_to_vcf/annovar_files/`\n",
    "2. **Build database**:\n",
    "    - Input: `ref_prefix.gff3` and `ref_prefix.fna` in `db_dir/`\n",
    "    - Build customized database: `ref_prefix_refGene.txt` and `ref_prefix_refGeneMrna.fa`\n",
    "3. **Annotate variants with ANNOVAR**:\n",
    "    - Output1: `vcf_prefix.<sample_name>.avinput.variant_function` infer mutation position on a gene.\n",
    "    - Output2: `vcf_prefix.<sample_name>.avinput.exonic_variant_function` infer mutation effects on translation, namely synonymous, nonsynonymous, stop codon gain, or stop codon loss."
   ]
  },
  {
   "cell_type": "code",
   "execution_count": 1,
   "metadata": {},
   "outputs": [
    {
     "ename": "ModuleNotFoundError",
     "evalue": "No module named 'MugGWAS'",
     "output_type": "error",
     "traceback": [
      "\u001b[0;31m---------------------------------------------------------------------------\u001b[0m",
      "\u001b[0;31mModuleNotFoundError\u001b[0m                       Traceback (most recent call last)",
      "Cell \u001b[0;32mIn[1], line 1\u001b[0m\n\u001b[0;32m----> 1\u001b[0m \u001b[38;5;28;01mfrom\u001b[39;00m\u001b[38;5;250m \u001b[39m\u001b[38;5;21;01mMugGWAS\u001b[39;00m\u001b[38;5;250m \u001b[39m\u001b[38;5;28;01mimport\u001b[39;00m run_annovar\n\u001b[1;32m      2\u001b[0m \u001b[38;5;66;03m#from annotate_variants import run_annovar\u001b[39;00m\n\u001b[1;32m      3\u001b[0m \n\u001b[1;32m      4\u001b[0m \u001b[38;5;66;03m## User inputs\u001b[39;00m\n\u001b[1;32m      5\u001b[0m \u001b[38;5;66;03m# path to the annovar directory\u001b[39;00m\n\u001b[1;32m      6\u001b[0m annovar_dir \u001b[38;5;241m=\u001b[39m \u001b[38;5;124m'\u001b[39m\u001b[38;5;124m/Users/linyusheng/MugGWAS/MugGWAS/scripts/annovar/\u001b[39m\u001b[38;5;124m'\u001b[39m\n",
      "\u001b[0;31mModuleNotFoundError\u001b[0m: No module named 'MugGWAS'"
     ]
    }
   ],
   "source": [
    "from MugGWAS import run_annovar\n",
    "#from annotate_variants import run_annovar\n",
    "\n",
    "## User inputs\n",
    "# path to the annovar directory\n",
    "annovar_dir = '/Users/linyusheng/MugGWAS/MugGWAS/scripts/annovar/'\n",
    "# the directory where the reference files are located\n",
    "db_dir = '/Users/linyusheng/MugGWAS/MugGWAS/data/LE18_22/'\n",
    "# path to the vcf file\n",
    "input_dir = '/Users/linyusheng/MugGWAS/MugGWAS/data/graz_LE.snp.vcf'\n",
    "# output prefix or the converted annovar input file\n",
    "vcf_prefix = 'graz_LE'\n",
    "# output prefix for the annovar database\n",
    "ref_prefix = 'LE18_22'\n",
    "\n",
    "## Run ANNOVAR\n",
    "run_annovar(annovar_dir, input_dir, db_dir, vcf_prefix, ref_prefix)\n"
   ]
  },
  {
   "cell_type": "markdown",
   "metadata": {},
   "source": [
    "#### **Build Gene Mutation Table:**\n",
    "\n",
    "For each sample:\n",
    "1. Build gene maps from the gff3 file.\n",
    "2. Compile mutation info gene-by-gene.\n",
    "3. Determine mutation types.\n",
    "    - binary: mutation or wildtype\n",
    "    - multiple: nonsense, nonstop, missense, silent or wildtype\n",
    "4. Output mutation types.\n",
    "\n",
    "**Import functions and annotation data**"
   ]
  },
  {
   "cell_type": "code",
   "execution_count": 3,
   "metadata": {},
   "outputs": [],
   "source": [
    "from compile_variants_by_gene import compile_gene_mutations, write_gene_mutation_summary\n",
    "\n",
    "# Directory containing the ANNOVAR output files\n",
    "annovar_output_dir = '/Users/linyusheng/MugGWAS/data/annovar_files'\n",
    "# Read gff3 to build gene maps\n",
    "gff_file = '/Users/linyusheng/MugGWAS/data/LE18_22/LE18_22.gff3'\n",
    "# Write the mutation types to a tab delimited file\n",
    "output_file = '/Users/linyusheng/MugGWAS/data/gene_mutation_summary.txt'"
   ]
  },
  {
   "cell_type": "markdown",
   "metadata": {},
   "source": [
    "**Compile variants and output gene mutation table**"
   ]
  },
  {
   "cell_type": "code",
   "execution_count": 4,
   "metadata": {},
   "outputs": [
    {
     "name": "stdout",
     "output_type": "stream",
     "text": [
      "Time elapsed for compiling gene mutations: 1.66 seconds\n",
      "Total number of samples processed: 22\n",
      "Gene mutation summary has been written to /Users/linyusheng/MugGWAS/data/gene_mutation_summary.txt.\n",
      "\n"
     ]
    }
   ],
   "source": [
    "## Compile the gene mutations for each sample\n",
    "# if you want to output binary mutation types (mutated or not), set model = 'binary'\n",
    "gene_mutation_summary = compile_gene_mutations(annovar_output_dir, gff_file, model = 'multiple')\n",
    "## Write the gene mutation summary\n",
    "write_gene_mutation_summary(gene_mutation_summary, output_file)"
   ]
  },
  {
   "cell_type": "markdown",
   "metadata": {},
   "source": [
    "#### **Estimate Population Structure Effect:**\n",
    "\n",
    "In gene-trait association analyses, false positives could arise from shared genetic lineage, especially in clonal organisms. There are two methods to estimate the effect of population structure:\n",
    "- Phylogenetic-based: Infer population structure based on phylogenetic distances. Since MugGWAS will use a linear mixed model, the distance will be estimated from the shared branch length between the MRCA and the root.\n",
    "- Kinship: Variants on core gene sequences represent the result of vertical evolution. To make inferences for identical by descent, the script will calculate the kinship matrix from the genotype matrix of the presence and absence of variants. --> (not supported yet as of 2025.04.03)\n",
    "\n",
    "Inputs: \n",
    "- Phylogeny-based: Output from IQ-tree `core_gene_tree.nwk`. A high-quality phylogeny based on single-copy core genes from a pangenome.\n",
    "- Kinship: A VCF file documenting variants on core genes `core_gene_snp.vcf.gz`.\n",
    "\n",
    "Output: \n",
    "- `phylogeny_distances.tsv`: a file to account for population structure effect in pyseer.\n",
    "\n",
    "**Phylogeny-based method**"
   ]
  },
  {
   "cell_type": "code",
   "execution_count": 2,
   "metadata": {},
   "outputs": [],
   "source": [
    "from estimate_pop_structure import phylogeny2distmatrix\n",
    "\n",
    "# Read the phylogenetic tree\n",
    "phylogeny = '/Users/linyusheng/MugGWAS/data/LE_tree.nwk'\n",
    "output_file = '/Users/linyusheng/MugGWAS/data/phylogeny_distances.tsv'\n",
    "\n",
    "# Convert the phylogenetic tree to a distance matrix\n",
    "phylogeny2distmatrix(phylogeny, output_file)"
   ]
  }
 ],
 "metadata": {
  "kernelspec": {
   "display_name": "muggwas",
   "language": "python",
   "name": "python3"
  },
  "language_info": {
   "codemirror_mode": {
    "name": "ipython",
    "version": 3
   },
   "file_extension": ".py",
   "mimetype": "text/x-python",
   "name": "python",
   "nbconvert_exporter": "python",
   "pygments_lexer": "ipython3",
   "version": "3.9.21"
  }
 },
 "nbformat": 4,
 "nbformat_minor": 2
}
